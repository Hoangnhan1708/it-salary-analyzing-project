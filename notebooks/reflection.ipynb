{
 "cells": [
  {
   "cell_type": "markdown",
   "metadata": {},
   "source": [
    "# Reflection"
   ]
  },
  {
   "cell_type": "markdown",
   "metadata": {},
   "source": [
    "Each member will fill out what they have learned in the project into this file"
   ]
  },
  {
   "cell_type": "markdown",
   "metadata": {},
   "source": [
    "## Trương Hoàng Nhân - 21120402"
   ]
  },
  {
   "cell_type": "markdown",
   "metadata": {},
   "source": [
    "- Know about a specific process of preprocessing in data science.\n",
    "- Know how many noisy values there will be during the data collection process.\n",
    "- Know how to use Git and Github as well as teamwork on this platform."
   ]
  },
  {
   "cell_type": "markdown",
   "metadata": {},
   "source": [
    "## Hà Quốc Bảo - 21120414"
   ]
  },
  {
   "cell_type": "markdown",
   "metadata": {},
   "source": []
  },
  {
   "cell_type": "markdown",
   "metadata": {},
   "source": [
    "## Lê Đức Cường - "
   ]
  }
 ],
 "metadata": {
  "language_info": {
   "name": "python"
  }
 },
 "nbformat": 4,
 "nbformat_minor": 2
}
