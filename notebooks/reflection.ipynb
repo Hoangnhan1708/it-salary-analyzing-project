{
 "cells": [
  {
   "cell_type": "markdown",
   "metadata": {},
   "source": [
    "# Reflection"
   ]
  },
  {
   "cell_type": "markdown",
   "metadata": {},
   "source": [
    "Each member will fill out what they have learned in the project into this file"
   ]
  },
  {
   "cell_type": "markdown",
   "metadata": {},
   "source": [
    "## Trương Hoàng Nhân - 21120402"
   ]
  },
  {
   "cell_type": "markdown",
   "metadata": {},
   "source": [
    "- Know about a specific process of preprocessing in data science.\n",
    "- Know how many noisy values there will be during the data collection process.\n",
    "- Know how to use Git and Github as well as teamwork on this platform."
   ]
  },
  {
   "cell_type": "markdown",
   "metadata": {},
   "source": [
    "## Hà Quốc Bảo - 21120414"
   ]
  },
  {
   "cell_type": "markdown",
   "metadata": {},
   "source": [
    "- Working with data related deeply to our career is truly a journey inside our mind and it's hard.\n",
    "- At first, we thought it's a easy task to make questions as we had already been very curious, but those question turned out to be too easy. So, we learned more, to be more curious as curiousity lead to questions.\n",
    "-  What GitHub does best is explicitly showing conflict, which is the main drawback of collaborating on code. "
   ]
  },
  {
   "cell_type": "markdown",
   "metadata": {},
   "source": [
    "## Lê Đức Cường - 21120213"
   ]
  },
  {
   "cell_type": "markdown",
   "metadata": {},
   "source": [
    "- Teamwork and Task Allocation in Project Implementation: Working with Multiple Dataframes, Synchronization, and Creating a Comprehensive Dataframe.     \n",
    "- Learning how to Explain Data using Markdown and dealing with Numerous Noisy Values in the Data Collection Process.     \n",
    "- Understanding methods to handle a multitude of noisy values that may arise during the data collection process."
   ]
  }
 ],
 "metadata": {
  "kernelspec": {
   "display_name": "Python 3 (ipykernel)",
   "language": "python",
   "name": "python3"
  },
  "language_info": {
   "codemirror_mode": {
    "name": "ipython",
    "version": 3
   },
   "file_extension": ".py",
   "mimetype": "text/x-python",
   "name": "python",
   "nbconvert_exporter": "python",
   "pygments_lexer": "ipython3",
   "version": "3.11.7"
  }
 },
 "nbformat": 4,
 "nbformat_minor": 4
}
