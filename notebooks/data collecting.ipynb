{
 "cells": [
  {
   "cell_type": "markdown",
   "metadata": {},
   "source": [
    "# Topic: Analyzing about programmer salaries in EU in the years 2018-2020"
   ]
  },
  {
   "cell_type": "markdown",
   "metadata": {},
   "source": [
    "We use data from Kaggle specifically this link: https://www.kaggle.com/datasets/parulpandey/2020-it-salary-survey-for-eu-region"
   ]
  },
  {
   "cell_type": "markdown",
   "metadata": {},
   "source": [
    "This dataset has 3 csv file include:\n",
    "- IT Salary Survey EU 2018.csv\n",
    "- IT Salary Survey EU 2019.csv\n",
    "- IT Salary Survey EU 2020.csv"
   ]
  },
  {
   "cell_type": "markdown",
   "metadata": {},
   "source": [
    "These files have different number of columns but have some completely similar properties, so we will make them to have same all columns and combine them into one file during the preprocessing stage."
   ]
  }
 ],
 "metadata": {
  "language_info": {
   "name": "python"
  }
 },
 "nbformat": 4,
 "nbformat_minor": 2
}
