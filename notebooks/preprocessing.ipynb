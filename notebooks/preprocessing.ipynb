{
 "cells": [
  {
   "cell_type": "code",
   "execution_count": null,
   "metadata": {},
   "outputs": [],
   "source": [
    "import pandas as pd\n",
    "import numpy as np\n",
    "import os\n",
    "\n",
    "#COLUMN ORDER:\n",
    "\n",
    "#Age\n",
    "#Gender\n",
    "#City\n",
    "#Position\n",
    "#Years of experience\n",
    "#Current level\n",
    "#Current Salary\n",
    "#Main language at work\n",
    "#Company size\n",
    "#Company type"
   ]
  },
  {
   "cell_type": "code",
   "execution_count": null,
   "metadata": {},
   "outputs": [],
   "source": [
    "#2018\n",
    "ITs18 = pd.read_csv('IT Salary Survey EU 2018.csv')\n",
    "ITs18 = ITs18.drop(['Timestamp', 'Salary one year ago', 'Salary two years ago', 'Are you getting any Stock Options?'], axis = 1)\n",
    "ITs18 = ITs18.rename(columns = {'Your level': 'Current level'})"
   ]
  },
  {
   "cell_type": "code",
   "execution_count": null,
   "metadata": {},
   "outputs": [],
   "source": [
    "ITs18 = ITs18.dropna(subset=['Position', 'Current level', 'Current Salary'])\n",
    "ITs18 = ITs18.drop_duplicates()\n",
    "ITs18 = ITs18.fillna({'Age': ITs18['Age'].mean()})\n",
    "ITs18 = ITs18.fillna({'Gender': 'M'})\n",
    "ITs18 = ITs18.fillna({'Years of experience': ITs18['Years of experience'].mean()})\n",
    "ITs18"
   ]
  },
  {
   "cell_type": "code",
   "execution_count": null,
   "metadata": {},
   "outputs": [],
   "source": [
    "#2019\n",
    "ITs19 = pd.read_csv('IT Salary Survey EU 2019.csv')\n",
    "ITs19 = ITs19.drop(['Zeitstempel', 'Your main technology / programming language', 'Yearly bonus', 'Yearly stocks', 'Yearly brutto salary (without bonus and stocks) one year ago. Only answer if staying in same country', 'Yearly bonus one year ago. Only answer if staying in same country'], axis = 1)\n",
    "ITs19 = ITs19.drop(['Yearly stocks one year ago. Only answer if staying in same country', 'Number of vacation days', 'Number of home office days per month', 'Company name ', 'Сontract duration', 'Company business sector', '0'], axis = 1)\n",
    "ITs19 = ITs19.rename(columns = {'Seniority level': 'Current level', 'Position (without seniority)': 'Position', 'Yearly brutto salary (without bonus and stocks)': 'Current Salary'})\n",
    "ITs19 = ITs19[['Age', 'Gender', 'City', 'Position', 'Years of experience', 'Current level', 'Current Salary', 'Main language at work', 'Company size', 'Company type']]"
   ]
  },
  {
   "cell_type": "code",
   "execution_count": null,
   "metadata": {},
   "outputs": [],
   "source": [
    "ITs19 = ITs19.dropna(subset=['Position', 'Current level', 'Current Salary'])\n",
    "ITs19 = ITs19.drop_duplicates()\n",
    "ITs19 = ITs19.fillna({'Age': ITs19['Age'].mean()})\n",
    "ITs19 = ITs19.fillna({'Gender': 'M'})\n",
    "ITs19 = ITs19.fillna({'Years of experience': ITs19['Years of experience'].mean()})\n",
    "ITs19"
   ]
  },
  {
   "cell_type": "code",
   "execution_count": null,
   "metadata": {},
   "outputs": [],
   "source": [
    "#2020\n",
    "ITs20 = pd.read_csv('IT Salary Survey EU 2020.csv')\n",
    "ITs20 = ITs20.drop(['Timestamp', 'Your main technology / programming language', 'Years of experience in Germany', 'Other technologies/programming languages you use often'], axis = 1)\n",
    "ITs20 = ITs20.drop(['Yearly bonus + stocks in EUR', 'Annual brutto salary (without bonus and stocks) one year ago. Only answer if staying in the same country', 'Annual bonus+stocks one year ago. Only answer if staying in same country'], axis = 1)\n",
    "ITs20 = ITs20.drop(['Number of vacation days', 'Employment status', 'Сontract duration', 'Have you been forced to have a shorter working week (Kurzarbeit)? If yes, how many hours per week', 'Have you received additional monetary support from your employer due to Work From Home? If yes, how much in 2020 in EUR'], axis = 1)\n",
    "ITs20 = ITs20.rename(columns = {'Total years of experience': 'Years of experience', 'Seniority level': 'Current level', 'Yearly brutto salary (without bonus and stocks) in EUR': 'Current Salary'})\n",
    "ITs20 = ITs20[['Age', 'Gender', 'City', 'Position', 'Years of experience', 'Current level', 'Current Salary', 'Main language at work', 'Company size', 'Company type']]"
   ]
  },
  {
   "cell_type": "code",
   "execution_count": null,
   "metadata": {},
   "outputs": [],
   "source": [
    "ITs20 = ITs20.dropna(subset=['Position ', 'Current level', 'Current Salary'])\n",
    "ITs20 = ITs20.drop_duplicates()\n",
    "ITs20 = ITs20.fillna({'Age': ITs20['Age'].mean()})\n",
    "ITs20 = ITs20.fillna({'Gender': 'M'})\n",
    "#ITs20 = ITs20.fillna({'Years of experience': ITs20['Years of experience'].mean()})\n",
    "ITs20"
   ]
  }
 ],
 "metadata": {
  "kernelspec": {
   "display_name": "Python 3",
   "language": "python",
   "name": "python3"
  },
  "language_info": {
   "name": "python",
   "version": "3.10.8"
  }
 },
 "nbformat": 4,
 "nbformat_minor": 2
}
